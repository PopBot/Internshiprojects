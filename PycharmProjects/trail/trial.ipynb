{
 "cells": [
  {
   "cell_type": "code",
   "execution_count": null,
   "metadata": {
    "collapsed": true
   },
   "outputs": [],
   "source": [
    "from sklearn import datasets\n",
    "from sklearn.neighbors import KNeighborsClassifier\n",
    "\n",
    "# Load iris dataset from sklearn\n",
    "X = datasets.load_iris()\n",
    "\n",
    "# Declare an of the KNN classifier class with the value with neighbors.\n",
    "knn = KNeighborsClassifier(n_neighbors=6)\n",
    "\n",
    "# Fit the model with training data and target values\n",
    "knn.fit(X['data'], X['target'])\n",
    "\n",
    "# Provide data whose class labels are to be predicted\n",
    "\n",
    "# Prints the data provided\n",
    "a=int(input('type the petal length'))\n",
    "b=int(input('type the petal width'))\n",
    "# Store predicted class labels of X\n",
    "X=[[1,2,a,b]]\n",
    "\n",
    "prediction = knn.predict(X)\n",
    "\n",
    "if prediction[0]==0:\n",
    "    print('Setosa')\n",
    "elif prediction[0]==1:\n",
    "    print('Versicolor')\n",
    "elif prediction[0]==1:\n",
    "    print('Virginica')"
   ]
  }
 ],
 "metadata": {
  "kernelspec": {
   "display_name": "Python 2",
   "language": "python",
   "name": "python2"
  },
  "language_info": {
   "codemirror_mode": {
    "name": "ipython",
    "version": 2
   },
   "file_extension": ".py",
   "mimetype": "text/x-python",
   "name": "python",
   "nbconvert_exporter": "python",
   "pygments_lexer": "ipython2",
   "version": "2.7.6"
  }
 },
 "nbformat": 4,
 "nbformat_minor": 0
}
